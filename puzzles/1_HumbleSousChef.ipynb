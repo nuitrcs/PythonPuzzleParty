{
  "nbformat": 4,
  "nbformat_minor": 0,
  "metadata": {
    "colab": {
      "provenance": []
    },
    "kernelspec": {
      "name": "python3",
      "display_name": "Python 3"
    },
    "language_info": {
      "name": "python"
    }
  },
  "cells": [
    {
      "cell_type": "markdown",
      "source": [
        "# And thus begins the quest for the Golden Food Truck\n",
        "\n",
        "Welcome! As you embark in your adventure, you start as a humble sous-chef. The head chef has fired the previous sous-chef because of their many mistakes 😬 So it is your job to fix them.\n",
        "\n",
        "All cells in this notebook have a bug unless otherwise noted. Your task is to find and fix as many bugs as you can. Please fix the bugs in order. To get points for a cell, you need to have fixed all previous cells.\n",
        "\n",
        "## Food inventory 1.0 (base Python 101)\n",
        "\n",
        "Create a food inventory and print the different foods and their cost."
      ],
      "metadata": {
        "id": "_tjwKWgqrtOk"
      }
    },
    {
      "cell_type": "code",
      "source": [
        "# Create a list of fruits\n",
        "fruits = [\"apple\", \"banana\", \"orange\"]\n",
        "\n",
        "# Create a tuple of quantities for each fruit\n",
        "quantities = (5, 3, 8)\n",
        "\n",
        "# Create a dictionary that maps each fruit to its price per unit\n",
        "prices = {\"apple\": 1.25, \"banana\": 0.75 \"orange\": 1.00}"
      ],
      "metadata": {
        "id": "Ti0XPSztRHw6"
      },
      "execution_count": null,
      "outputs": []
    },
    {
      "cell_type": "code",
      "source": [
        "# Create a function that calculates the total cost of a fruit order and returns such a value\n",
        "def calculate_total_cost(quantity, price_per_unit):\n",
        "  '''\n",
        "  Function to calculate total cost.\n",
        "  '''\n",
        "  print(quantity * price_per_unit)"
      ],
      "metadata": {
        "id": "btILG2DiRPFw"
      },
      "execution_count": null,
      "outputs": []
    },
    {
      "cell_type": "code",
      "source": [
        "# Use a list comprehension to calculate and store the total cost for each fruit\n",
        "total_costs = [calculate_total_cost(quantities[fruit], prices[i]) for i, fruit in enumerate(fruits)]"
      ],
      "metadata": {
        "id": "B1ZCyImERSPa"
      },
      "execution_count": null,
      "outputs": []
    },
    {
      "cell_type": "code",
      "source": [
        "# Create a tuple that combines the fruits with their total costs\n",
        "inventory = zip(*fruits, total_costs)\n",
        "\n",
        "# Print a message for each item in the inventory\n",
        "for item, cost in inventory:\n",
        "  print(\"The total cost of {quantities[fruits.index(item)]} {item}s is ${cost:.2f}.\")"
      ],
      "metadata": {
        "id": "r0GeoPbRRWxS"
      },
      "execution_count": null,
      "outputs": []
    },
    {
      "cell_type": "markdown",
      "source": [
        "## Food analytics 1.0 (key Python libraries 101)\n",
        "\n",
        "Create a data frame of foods, explore it, and create a model to predict calories."
      ],
      "metadata": {
        "id": "QdIHNDApSZmA"
      }
    },
    {
      "cell_type": "code",
      "source": [
        "# Importing libraries\n",
        "import numpy as np\n",
        "import pandas\n",
        "import matplotlib.pyplot as plt\n",
        "from sklearn.linear_model import LinearRegression\n",
        "\n",
        "# Creating a dataset\n",
        "data = {\n",
        "    'food': ['apple', 'banana', 'orange', 'grape', 'carrot'],\n",
        "    'calories': [52, 96, 47, 69, 41],\n",
        "    'protein': [0.3, 1.3, 1.0, 0.6, 0.9],\n",
        "    'fat': [0.2, 0.3, 0.2, 0.2, 0.2]\n",
        "    }\n",
        "\n",
        "df = pd.DataFrame(data)\n",
        "\n",
        "# Print descriptive statistics\n",
        "df.describe()"
      ],
      "metadata": {
        "id": "ZEi1GcfcSDCh"
      },
      "execution_count": null,
      "outputs": []
    },
    {
      "cell_type": "code",
      "source": [
        "# Create a bar chart comparing the calories of each food\n",
        "plt.bar(df[food], df[calories])\n",
        "plt.title('Calories across foods')\n",
        "plt.xlabel('Food')\n",
        "plt.ylabel('Calories')\n",
        "plt.show()"
      ],
      "metadata": {
        "id": "4KnylOW6SKON"
      },
      "execution_count": null,
      "outputs": []
    },
    {
      "cell_type": "code",
      "source": [
        "# Calculate the correlation between protein and calories\n",
        "print(f\"\\nCorrelation between protein and calories: {data['protein'].corr(data['calories']):.2f}\")"
      ],
      "metadata": {
        "id": "eivV89yCSLvI"
      },
      "execution_count": null,
      "outputs": []
    },
    {
      "cell_type": "code",
      "source": [
        "# Fit a linear regression model\n",
        "# Hint: You may want to review what .fit(): https://www.sharpsightlabs.com/blog/sklearn-fit/\n",
        "model = LinearRegression().fit(df['protein'].values, df['calories'])"
      ],
      "metadata": {
        "id": "FWmnFzheSO6a"
      },
      "execution_count": null,
      "outputs": []
    },
    {
      "cell_type": "code",
      "source": [
        "# Predict the calories for a new food\n",
        "new_protein = 1.5\n",
        "print(f\"\\nPredicted calories for a new food with {new_protein} grams of protein: {model.predict([[new_protein]]):.2f}\")"
      ],
      "metadata": {
        "id": "CMxScK6ISQv_"
      },
      "execution_count": null,
      "outputs": []
    },
    {
      "cell_type": "markdown",
      "source": [
        "## Food inventory 2.0 (base Python 102)\n",
        "\n",
        "Create a food inventory manager. <br>\n",
        "The cells with tests don't have bugs. The tests are meant to help you make sure that you're getting the expected behaviors."
      ],
      "metadata": {
        "id": "3OGBoKZXSipL"
      }
    },
    {
      "cell_type": "code",
      "source": [
        "# Create a class for foods\n",
        "class Food:\n",
        "  quantity = quantity\n",
        "  def __init__(self, name, quantity, shelf_life):\n",
        "    self.name = name\n",
        "    self.shelf_life\n",
        "\n",
        "  def is_expired(self, current_day):\n",
        "    return current_day >= self.shelf_life # Returns True if the food item is expired based on the current day"
      ],
      "metadata": {
        "id": "WBPcaFi2XN58"
      },
      "execution_count": null,
      "outputs": []
    },
    {
      "cell_type": "code",
      "source": [
        "# THIS CELL DOESN'T HAVE A BUG\n",
        "# Testing Food\n",
        "\n",
        "# Creating foods\n",
        "food_1 = Food(\"Apple\", 10, 7)\n",
        "food_2 = Food(\"Milk\", 2, 3)\n",
        "food_3 = Food(\"Bread\", 1, 10)\n",
        "\n",
        "# Testing that the foods are of class Food\n",
        "assert isinstance(food_1, Food)\n",
        "assert isinstance(food_2, Food)\n",
        "assert isinstance(food_3, Food)\n",
        "\n",
        "# Testing that is_expired works as expected\n",
        "assert not food_1.is_expired(0)\n",
        "assert not food_2.is_expired(3)\n",
        "assert food_3.is_expired(11)"
      ],
      "metadata": {
        "id": "khub021ro66P"
      },
      "execution_count": null,
      "outputs": []
    },
    {
      "cell_type": "code",
      "source": [
        "# Create a class for inventory manager\n",
        "class InventoryManager:\n",
        "  def __init__(self):\n",
        "    self.inventory = []\n",
        "\n",
        "  def get_total_quantity(self):\n",
        "    return sum(food.quantity for food in self.inventory) # total quantity of all foods in the inventory\n",
        "\n",
        "  def add_food(self, food):\n",
        "    self.inventory.append(food)\n",
        "\n",
        "  def remove_expired_foods(self, current_day, index = 0):\n",
        "    if index < len(self.inventory):\n",
        "      if self.inventory[index].is_expired(current_day):\n",
        "        del self.inventory[index]\n",
        "        # Continue with current index since the first food was deleted\n",
        "        return self.remove_expired_foods(current_day, index)\n",
        "      else:\n",
        "        # Move on to next food\n",
        "        return self.remove_expired_foods(current_day, index)\n",
        "    else:\n",
        "      return"
      ],
      "metadata": {
        "id": "7vpEOVi2XOVZ"
      },
      "execution_count": null,
      "outputs": []
    },
    {
      "cell_type": "code",
      "source": [
        "# THIS CELL DOESN'T HAVE A BUG\n",
        "# Testing InventoryManager\n",
        "\n",
        "# Creating inventory manager\n",
        "inventory_manager = InventoryManager()\n",
        "\n",
        "# Testing that the inventory manager is of class InventoryManager\n",
        "assert isinstance(inventory_manager, InventoryManager)\n",
        "\n",
        "# Testing get_total_quantity on empty inventory\n",
        "assert inventory_manager.get_total_quantity() == 0, \"inventory_manager should be empty\"\n",
        "\n",
        "# Adding food\n",
        "inventory_manager.add_food(food_1)\n",
        "inventory_manager.add_food(food_2)\n",
        "inventory_manager.add_food(food_3)\n",
        "\n",
        "# Testing add_food works as expected with get_total_quantity\n",
        "assert inventory_manager.get_total_quantity() == 13, \"Total quantity is incorrect\"\n",
        "\n",
        "# Remove expired items at day 5\n",
        "inventory_manager.remove_expired_foods(5)\n",
        "\n",
        "# Testing remove_expired_foods works as expected with get_total_quantity\n",
        "assert inventory_manager.get_total_quantity() == 11, \"Updated total quantity is incorrect\""
      ],
      "metadata": {
        "id": "dUQyp6crVUw8"
      },
      "execution_count": null,
      "outputs": []
    },
    {
      "cell_type": "markdown",
      "source": [
        "## Food analytics 2.0 (key Python libraries 102)\n",
        "\n",
        "Scrape the Wikipedia article about food and start exploring what it's talking about.<br>\n",
        "The next cell doesn't have a bug. **Please run it only once.** That cell is scraping the Wikipedia article. We don't want to make too many requests to Wikipedia."
      ],
      "metadata": {
        "id": "C4C4d9R1qqco"
      }
    },
    {
      "cell_type": "code",
      "source": [
        "# THIS CELL DOESN'T HAVE A BUG\n",
        "# PLEASE RUN THIS CELL ONLY ONCE! NO NEED TO KEEP MAKING REQUESTS TO WIKIPEDIA\n",
        "\n",
        "# Importing libraries\n",
        "import requests\n",
        "from bs4 import BeautifulSoup\n",
        "import nltk\n",
        "import spacy\n",
        "from nltk.corpus import stopwords\n",
        "from nltk.tokenize import RegexpTokenizer\n",
        "from collections import Counter\n",
        "import matplotlib.pyplot as plt\n",
        "\n",
        "# Loading stop words\n",
        "nltk.download('stopwords')\n",
        "stop_words = stopwords.words('english') + ['food']\n",
        "\n",
        "# Loading language model for lemmatization\n",
        "nlp = spacy.load('en_core_web_sm')\n",
        "\n",
        "# Requesting Wikipedia article about food\n",
        "response = requests.get(\"https://en.wikipedia.org/wiki/Food\")\n",
        "\n",
        "# Parsing HTML content\n",
        "soup = BeautifulSoup(response.text, 'html.parser')"
      ],
      "metadata": {
        "id": "-qg38TFNstiW"
      },
      "execution_count": null,
      "outputs": []
    },
    {
      "cell_type": "code",
      "source": [
        "# Get all paragraphs\n",
        "# Hint: you may want to make sure you're getting the correct HTML tag: https://www.w3schools.com/tags/\n",
        "paragraphs = soup.find_all('h2')"
      ],
      "metadata": {
        "id": "BI4G5Qe9tVxN"
      },
      "execution_count": null,
      "outputs": []
    },
    {
      "cell_type": "code",
      "source": [
        "# Concatenate text from all paragraphs\n",
        "# Hint: you may want to use get_text: https://www.educative.io/answers/how-to-use-gettext-in-beautiful-soup\n",
        "text = ' '.join([p for p in paragraphs])"
      ],
      "metadata": {
        "id": "xMsf_of53ugE"
      },
      "execution_count": null,
      "outputs": []
    },
    {
      "cell_type": "code",
      "source": [
        "# Turn text to lower case\n",
        "text = text.lower()\n",
        "\n",
        "# Tokenize text\n",
        "words = RegexpTokenizer(r'\\w+').tokenize(text)\n",
        "\n",
        "# Remove numbers and stop words\n",
        "words = [word for word in words if not word.isdigit() and word not in stop_words]\n",
        "\n",
        "# Lemmatize words\n",
        "# Hint: you may want to take a look at lemma_: https://spacy.io/api/token\n",
        "words = [token for token in nlp(' '.join(words))]\n",
        "\n",
        "# Count the occurrences of each word and get the top 25 words and their counts\n",
        "word_counts = Counter(words).most_common(25)[::-1]\n",
        "top_words, counts = zip(*word_counts)\n",
        "\n",
        "# Plot word frequency\n",
        "plt.barh(range(len(top_words)), counts, tick_label = top_words)\n",
        "plt.xlabel('Frequency')\n",
        "plt.ylabel('Words')\n",
        "plt.title('Top 25 words used in Wikipedia article about food')\n",
        "plt.show()"
      ],
      "metadata": {
        "id": "Uk8D9xzjvm-s"
      },
      "execution_count": null,
      "outputs": []
    }
  ]
}