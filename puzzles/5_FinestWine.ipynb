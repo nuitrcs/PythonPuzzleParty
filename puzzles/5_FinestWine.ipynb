{
  "cells": [
    {
      "cell_type": "markdown",
      "metadata": {
        "id": "RS_ycek-U7My"
      },
      "source": [
        "# The Finest Wine\n",
        "\n",
        "By now, you've become an accomplished chef, well-known worldwide. At this stage, you've honed your craft almost to perfection. The only remaining step is to source the finest ingredients for your restaurant. Your first focus is on testing wine quality. You've dispatched a team of researchers to gather data about various wines, while your task is to develop a model that predicts wine quality based on its distinctive characteristics.\n",
        "\n",
        "* Task: Using the dataset below, find the model that best predicts `quality` in `y_test`.\n",
        "\n",
        "Most of the code is given to you. Your task is to try out different algorithms using `x_train` and `y_train` and find the most accurate one. Then, use that model to generate predictions using `x_test`, save those predictions to a CSV, and email those predictions to emilio@northwestern.edu.\n",
        "\n",
        "You don't have access to `y_test`. Emilio will calculate your predictive accuracy on `y_test`.\n",
        "\n",
        "The number of points that you get for this puzzle depends on the accuracy of your model as following:\n",
        "- $R^2$ lower than 0.2: 0 points\n",
        "- $R^2$ between 0.2 and 0.4: 50 points\n",
        "- $R^2$ between 0.41 and 0.5: 75 points\n",
        "- $R^2$ above 0.5: 100 points\n",
        "\n",
        "## Importing libraries and setting options"
      ]
    },
    {
      "cell_type": "code",
      "execution_count": null,
      "metadata": {
        "id": "BRmPw0gXawJY"
      },
      "outputs": [],
      "source": [
        "from sklearn.model_selection import train_test_split\n",
        "import matplotlib.pyplot as plt\n",
        "from sklearn.preprocessing import StandardScaler\n",
        "from sklearn.preprocessing import RobustScaler\n",
        "from sklearn.linear_model import LinearRegression, Lasso, Ridge\n",
        "from sklearn.ensemble import RandomForestRegressor, GradientBoostingRegressor\n",
        "from sklearn.pipeline import Pipeline\n",
        "from sklearn.model_selection import GridSearchCV\n",
        "from sklearn.metrics import r2_score\n",
        "from sklearn.neural_network import MLPRegressor\n",
        "import pandas as pd\n",
        "\n",
        "pd.set_option('display.max_columns', None)"
      ]
    },
    {
      "cell_type": "markdown",
      "metadata": {
        "id": "h1Ok98xBbHx2"
      },
      "source": [
        "## Reading data"
      ]
    },
    {
      "cell_type": "code",
      "execution_count": null,
      "metadata": {
        "id": "hHJL9iRsa0HO"
      },
      "outputs": [],
      "source": [
        "x_train = pd.read_csv('https://raw.githubusercontent.com/emiliolehoucq/trainings/main/data/x_train.csv', index_col=0)\n",
        "x_test = pd.read_csv('https://raw.githubusercontent.com/emiliolehoucq/trainings/main/data/x_test.csv', index_col=0)\n",
        "y_train = pd.read_csv('https://raw.githubusercontent.com/emiliolehoucq/trainings/main/data/y_train.csv', index_col=0)"
      ]
    },
    {
      "cell_type": "markdown",
      "metadata": {
        "id": "kmvebJRPVVb2"
      },
      "source": [
        "## Exploratory data analysis"
      ]
    },
    {
      "cell_type": "code",
      "execution_count": null,
      "metadata": {
        "id": "SoaU_iKuaBPy"
      },
      "outputs": [],
      "source": [
        "y_train['quality'].plot(kind='hist')"
      ]
    },
    {
      "cell_type": "code",
      "execution_count": null,
      "metadata": {
        "id": "HNI0SZmoQzvA"
      },
      "outputs": [],
      "source": [
        "y_train.head()"
      ]
    },
    {
      "cell_type": "code",
      "execution_count": null,
      "metadata": {
        "id": "IOAm0hkSb58g"
      },
      "outputs": [],
      "source": [
        "x_train.apply(lambda col: y_train.corrwith(col))"
      ]
    },
    {
      "cell_type": "code",
      "execution_count": null,
      "metadata": {
        "id": "Lpm4DahhGKP-"
      },
      "outputs": [],
      "source": [
        "for col in x_train.columns:\n",
        "    plt.scatter(x_train[col], y_train, alpha=0.1)\n",
        "    plt.title(f'{col} vs. quality')\n",
        "    plt.show()"
      ]
    },
    {
      "cell_type": "code",
      "execution_count": null,
      "metadata": {
        "id": "lZmvbSdvbcPB"
      },
      "outputs": [],
      "source": [
        "x_train.corr()"
      ]
    },
    {
      "cell_type": "markdown",
      "metadata": {
        "id": "8qwZhgX-oUus"
      },
      "source": [
        "## Modeling / trying out different algorithms\n",
        "\n",
        "You may want to take a look at the algorithms available for [supervised learning in Scikit-Learn](https://scikit-learn.org/stable/supervised_learning.html). You could also find [`Pipeline`](https://scikit-learn.org/stable/modules/generated/sklearn.pipeline.Pipeline.html) and [`GridSearchCV`](https://scikit-learn.org/stable/modules/generated/sklearn.model_selection.GridSearchCV.html) useful.\n",
        "\n",
        "This is your task!"
      ]
    },
    {
      "cell_type": "code",
      "execution_count": null,
      "metadata": {
        "id": "J3S9p2U62ek0"
      },
      "outputs": [],
      "source": []
    },
    {
      "cell_type": "markdown",
      "metadata": {
        "id": "X_pWVHzBV8DE"
      },
      "source": [
        "## Getting and saving predictions from best model\n",
        "\n",
        "Replace `<name>` with your group name. **Make sure to not change anything else about the format of the CSV** (column names, index), otherwise we'll have trouble evaluating your submission and it will be counted as invalid. Also, you may need to change `best_model` to your best model."
      ]
    },
    {
      "cell_type": "code",
      "execution_count": null,
      "metadata": {
        "id": "ujlTXKwQR09i"
      },
      "outputs": [],
      "source": [
        "y_pred = best_model.predict(x_test)\n",
        "pd.DataFrame({'predictions': y_pred}, index=x_test.index).to_csv('<name>.csv')"
      ]
    }
  ],
  "metadata": {
    "colab": {
      "provenance": []
    },
    "kernelspec": {
      "display_name": "Python 3",
      "name": "python3"
    },
    "language_info": {
      "name": "python"
    }
  },
  "nbformat": 4,
  "nbformat_minor": 0
}
