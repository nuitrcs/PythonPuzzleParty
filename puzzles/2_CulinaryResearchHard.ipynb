{
  "cells": [
    {
      "cell_type": "markdown",
      "metadata": {
        "id": "IUUUJQ8oP9kX"
      },
      "source": [
        "# Global Culinary Research\n",
        "\n",
        "To become the best chef in the world, you must know at least the basics of different cuisines. To achieve this goal you head to the library of Alexandria and search for relevant information. You want to start with a basic inquiry: how does meat figure as an ingredient for cuisines around the world?\n",
        "\n",
        "Below is a dataset from the Organisation for Economic Co-operation and Development (OECD)."
      ]
    },
    {
      "cell_type": "code",
      "execution_count": null,
      "metadata": {
        "id": "NlcpcV7yM4C4"
      },
      "outputs": [],
      "source": [
        "import pandas as pd\n",
        "pd.set_option('display.max_rows', 100)"
      ]
    },
    {
      "cell_type": "code",
      "execution_count": null,
      "metadata": {
        "id": "xWuMkDRsM8GG"
      },
      "outputs": [],
      "source": [
        "df = pd.read_csv('https://raw.githubusercontent.com/emiliolehoucq/trainings/main/data/oecd_data.csv')"
      ]
    },
    {
      "cell_type": "markdown",
      "metadata": {
        "id": "pp5MjtcgUcGj"
      },
      "source": [
        "Data on meat consumption from the [OECD](https://data.oecd.org/agroutput/meat-consumption.htm):\n",
        "- `LOCATION` is the country ([ISO 3166-1 alpha-3 codes](https://en.wikipedia.org/wiki/ISO_3166-1_alpha-3))\n",
        "- `SUBJECT` is the type of meat (beef, pig, poultry or sheep)\n",
        "- `MEASURE` is the metric for the indicator (kg_cap [kilograms per capita] or thnd_tonne [thousand tonnes])\n",
        "- `TIME` is the year\n",
        "- `Value` is the value for the indicator\n",
        "\n",
        "What is the country in the OECD that has consumed the least meat per capita annually the most years between 2000 and 2020?\n",
        "\n",
        "For example, if France consumed the least meat between 2000 and 2015 and the US between 2016 and 2020, the answer would be France, because it consumed the least meat for 15 years vs. 5 years, respectively.\n",
        "\n",
        "40 points."
      ]
    },
    {
      "cell_type": "code",
      "execution_count": null,
      "metadata": {
        "id": "oVFpWFBTwzvD"
      },
      "outputs": [],
      "source": []
    }
  ],
  "metadata": {
    "colab": {
      "provenance": []
    },
    "kernelspec": {
      "display_name": "Python 3",
      "name": "python3"
    },
    "language_info": {
      "name": "python"
    }
  },
  "nbformat": 4,
  "nbformat_minor": 0
}
