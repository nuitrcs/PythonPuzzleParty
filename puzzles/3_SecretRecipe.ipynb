{
 "cells": [
  {
   "cell_type": "markdown",
   "id": "aa57b8ef-29a8-4279-9adf-b4a98460777d",
   "metadata": {},
   "source": [
    "# SECRET RECIPE\n",
    "You are feeling discouraged in your culinary pursuits, so you decide to cook yourself the most comforting meal you can think of - IKEA's famous sweedish meatballs that they serve in the IKEA store cafeteria. You ask your friend who works at IKEA for the recipe, but it's TOP SECRET and hidden in a secret code! \n",
    "<br><br>You will need to write a regular expression to reveal the true recipe.\n",
    "<br><br>Can you **find the pattern, split the nonsense, and join the original text back together** so that the true recipe is revealed?"
   ]
  },
  {
   "cell_type": "markdown",
   "id": "759b6a08-c22f-465b-8fdf-cb1c441ef0d5",
   "metadata": {},
   "source": [
    "#### Load in the encoded recipe:"
   ]
  },
  {
   "cell_type": "code",
   "execution_count": null,
   "id": "f8f2a46a-0249-41dc-8a4d-0a8d2a2bbb96",
   "metadata": {},
   "outputs": [],
   "source": [
    "from urllib import request"
   ]
  },
  {
   "cell_type": "code",
   "execution_count": null,
   "id": "a4018a9a-2da5-4084-a9a3-a39da77a481f",
   "metadata": {},
   "outputs": [],
   "source": [
    "with request.urlopen(\"https://raw.githubusercontent.com/aGitHasNoName/313810248/main/secretRecipe.txt\") as f:\n",
    "    nonsense = f.read().decode()"
   ]
  },
  {
   "cell_type": "code",
   "execution_count": null,
   "id": "e8525b71-d9b8-4de4-ae2f-e7391534828d",
   "metadata": {},
   "outputs": [],
   "source": [
    "print(nonsense)"
   ]
  },
  {
   "cell_type": "markdown",
   "id": "11fd6ae6-0ba9-416b-9b14-78460a94d6aa",
   "metadata": {},
   "source": [
    "# <br>HINT\n",
    "The first word is:\n",
    "<br>INGREDIENTS\n",
    "\n",
    "### <br><br>What is a regular expression?\n",
    "From the Python documentation:\n",
    "<br>*\"Regular expressions (called REs, or regexes, or regex patterns) are essentially a tiny, highly specialized programming language embedded inside Python and made available through the re module. Using this little language, you specify the rules for the set of possible strings that you want to match; this set might contain English sentences, or e-mail addresses, or TeX commands, or anything you like. You can then ask questions such as “Does this string match the pattern?”, or “Is there a match for the pattern anywhere in this string?”. You can also use REs to modify a string or to split it apart in various ways.\"*\n",
    "\n",
    "Helpful link: https://docs.python.org/3/howto/regex.html\n",
    "<br>Helpful functions: `re.compile()`, `re.split()`\n",
    "\n",
    "# <br>HINT\n",
    "re module patterns:\n",
    "   - a lowercase letter: `[a-z]`\n",
    "   - an uppercase letter: `[A-Z]`\n",
    "   - a digit: `[0-9]`\n",
    "   - any wilcard character: `.`"
   ]
  },
  {
   "cell_type": "markdown",
   "id": "3215697c-0c74-4690-a36c-b4ce0674f879",
   "metadata": {},
   "source": [
    "#### Import the `re` module:"
   ]
  },
  {
   "cell_type": "code",
   "execution_count": null,
   "id": "3a844b46-e98e-4ae3-901d-b1421ebbf1df",
   "metadata": {},
   "outputs": [],
   "source": [
    "import re"
   ]
  },
  {
   "cell_type": "markdown",
   "id": "20dc8034-4acc-4e51-800c-f281fb930ee0",
   "metadata": {},
   "source": [
    "#### <br><br>Solve the puzzle:"
   ]
  },
  {
   "cell_type": "code",
   "execution_count": null,
   "id": "42843077-b424-4b95-ab80-e637e90e2a76",
   "metadata": {},
   "outputs": [],
   "source": []
  },
  {
   "cell_type": "code",
   "execution_count": null,
   "id": "a5151a52-b7f5-4153-b659-51064076b3b3",
   "metadata": {},
   "outputs": [],
   "source": []
  },
  {
   "cell_type": "code",
   "execution_count": null,
   "id": "9f79daf6-537c-42b3-b92b-b4bde2f880b7",
   "metadata": {},
   "outputs": [],
   "source": []
  },
  {
   "cell_type": "code",
   "execution_count": null,
   "id": "8db77dfc-9fe2-49d4-863c-e7d998b562cc",
   "metadata": {},
   "outputs": [],
   "source": []
  }
 ],
 "metadata": {
  "kernelspec": {
   "display_name": "Python 3 (ipykernel)",
   "language": "python",
   "name": "python3"
  },
  "language_info": {
   "codemirror_mode": {
    "name": "ipython",
    "version": 3
   },
   "file_extension": ".py",
   "mimetype": "text/x-python",
   "name": "python",
   "nbconvert_exporter": "python",
   "pygments_lexer": "ipython3",
   "version": "3.9.13"
  }
 },
 "nbformat": 4,
 "nbformat_minor": 5
}
