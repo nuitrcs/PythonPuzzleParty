{
  "nbformat": 4,
  "nbformat_minor": 0,
  "metadata": {
    "colab": {
      "provenance": []
    },
    "kernelspec": {
      "name": "python3",
      "display_name": "Python 3"
    },
    "language_info": {
      "name": "python"
    }
  },
  "cells": [
    {
      "cell_type": "markdown",
      "source": [
        "# Global Culinary Research\n",
        "\n",
        "To become the best chef in the world, you must know at least the basics of different cuisines. To achieve this goal you head to the library of Alexandria and search for relevant information. You want to start with a basic inquiry: how does meat figure as an ingredient for cuisines around the world?\n",
        "\n",
        "Below is a dataset from the Organisation for Economic Co-operation and Development (OECD). Determine which country consumes the least meat per capita in 2020."
      ],
      "metadata": {
        "id": "IUUUJQ8oP9kX"
      }
    },
    {
      "cell_type": "code",
      "execution_count": null,
      "metadata": {
        "id": "NlcpcV7yM4C4"
      },
      "outputs": [],
      "source": [
        "import pandas as pd\n",
        "pd.set_option('display.max_rows', 100)"
      ]
    },
    {
      "cell_type": "code",
      "source": [
        "df = pd.read_csv('https://raw.githubusercontent.com/emiliolehoucq/trainings/main/data/oecd_data.csv')"
      ],
      "metadata": {
        "id": "xWuMkDRsM8GG"
      },
      "execution_count": null,
      "outputs": []
    },
    {
      "cell_type": "markdown",
      "source": [
        "Data on meat consumption from the [OECD](https://data.oecd.org/agroutput/meat-consumption.htm):\n",
        "- `LOCATION` is the country ([ISO 3166-1 alpha-3 codes](https://en.wikipedia.org/wiki/ISO_3166-1_alpha-3))\n",
        "- `SUBJECT` is the type of meat (beef, pig, poultry or sheep)\n",
        "- `MEASURE` is the metric for the indicator (kg_cap [kilograms per capita] or thnd_tonne [thousand tonnes])\n",
        "- `TIME` is the year\n",
        "- `Value` is the value for the indicator\n",
        "\n",
        "Hint: You may want to review how to [subset a `DataFrame`](https://pandas.pydata.org/docs/getting_started/intro_tutorials/03_subset_data.html), how to [`groupby`](https://pandas.pydata.org/docs/reference/api/pandas.DataFrame.groupby.html), how to [`sum`](https://pandas.pydata.org/docs/reference/api/pandas.DataFrame.sum.html), and how to [`sort_values`](https://pandas.pydata.org/docs/reference/api/pandas.DataFrame.sort_values.html)."
      ],
      "metadata": {
        "id": "pp5MjtcgUcGj"
      }
    },
    {
      "cell_type": "code",
      "source": [
        "df[(df['MEASURE'] == 'KG_CAP') & (df['TIME'] == 2020)].groupby('LOCATION')['Value'].sum().sort_values()"
      ],
      "metadata": {
        "colab": {
          "base_uri": "https://localhost:8080/"
        },
        "id": "FaLtEEL3QZg-",
        "outputId": "d5fe2f38-33f6-4073-8fa0-9f13b8130a2c"
      },
      "execution_count": null,
      "outputs": [
        {
          "output_type": "execute_result",
          "data": {
            "text/plain": [
              "LOCATION\n",
              "ETH        3.082\n",
              "IND        3.675\n",
              "NGA        4.947\n",
              "IDN       11.518\n",
              "PAK       15.061\n",
              "THA       19.051\n",
              "EGY       20.138\n",
              "BRICS     30.221\n",
              "PHL       32.275\n",
              "TUR       33.047\n",
              "IRN       33.428\n",
              "WLD       33.703\n",
              "PRY       39.345\n",
              "UKR       40.477\n",
              "JPN       41.667\n",
              "SAU       43.487\n",
              "CHN       44.400\n",
              "COL       49.460\n",
              "KAZ       49.500\n",
              "VNM       49.959\n",
              "CHE       51.482\n",
              "ZAF       52.180\n",
              "MEX       54.521\n",
              "PER       55.165\n",
              "NOR       56.222\n",
              "MYS       61.077\n",
              "GBR       61.524\n",
              "KOR       62.489\n",
              "RUS       62.840\n",
              "CAN       69.960\n",
              "OECD      70.258\n",
              "NZL       74.136\n",
              "BRA       78.481\n",
              "CHL       82.581\n",
              "ARG       87.431\n",
              "AUS       89.316\n",
              "ISR       90.486\n",
              "USA      101.572\n",
              "Name: Value, dtype: float64"
            ]
          },
          "metadata": {},
          "execution_count": 3
        }
      ]
    },
    {
      "cell_type": "markdown",
      "source": [
        "- Filtering for only the rows where the measure is kilograms per capita and the year is 2020: `df[(df['MEASURE'] == 'KG_CAP') & (df['TIME'] == 2020)]`\n",
        "- Adding the values for the indicator for each country: `.groupby('LOCATION')['Value'].sum()`\n",
        "- Sorting the results in ascending value: `.sort_values()`"
      ],
      "metadata": {
        "id": "uRiN2udCTezv"
      }
    },
    {
      "cell_type": "markdown",
      "source": [
        "# Challenge question:\n",
        "\n",
        "What is the country in the OECD that has consumed the least meat per capita annually the most years between 2000 and 2020?\n",
        "\n",
        "For example, if France consumed the least meat between 2000 and 2015 and the US between 2016 and 2020, the answer would be France, because it consumed the least meat for 15 years vs. 5 years, respectively.\n",
        "\n",
        "Hint: In addition to the functions for the first puzzle, [`idxmin`](https://pandas.pydata.org/docs/reference/api/pandas.DataFrame.idxmin.html) could be useful."
      ],
      "metadata": {
        "id": "knl-bU732wXU"
      }
    },
    {
      "cell_type": "code",
      "source": [
        "df[(df['MEASURE'] == 'KG_CAP') & (df['TIME'].between(2000, 2020))].groupby(['TIME', 'LOCATION'])['Value'].sum().groupby('TIME').idxmin()"
      ],
      "metadata": {
        "colab": {
          "base_uri": "https://localhost:8080/"
        },
        "id": "oVFpWFBTwzvD",
        "outputId": "2293ebb3-1282-4b8f-f2bc-a4df9338d26d"
      },
      "execution_count": null,
      "outputs": [
        {
          "output_type": "execute_result",
          "data": {
            "text/plain": [
              "TIME\n",
              "2000    (2000, IND)\n",
              "2001    (2001, IND)\n",
              "2002    (2002, IND)\n",
              "2003    (2003, IND)\n",
              "2004    (2004, IND)\n",
              "2005    (2005, IND)\n",
              "2006    (2006, IND)\n",
              "2007    (2007, IND)\n",
              "2008    (2008, IND)\n",
              "2009    (2009, IND)\n",
              "2010    (2010, IND)\n",
              "2011    (2011, IND)\n",
              "2012    (2012, IND)\n",
              "2013    (2013, IND)\n",
              "2014    (2014, IND)\n",
              "2015    (2015, ETH)\n",
              "2016    (2016, ETH)\n",
              "2017    (2017, ETH)\n",
              "2018    (2018, ETH)\n",
              "2019    (2019, ETH)\n",
              "2020    (2020, ETH)\n",
              "Name: Value, dtype: object"
            ]
          },
          "metadata": {},
          "execution_count": 4
        }
      ]
    },
    {
      "cell_type": "markdown",
      "source": [
        "This code builds on the previous one. These are the new pieces:\n",
        "- `between(2000, 2020)` to get the desired range\n",
        "- `groupby(['TIME', 'LOCATION'])` to get the sum of `Value` for each year for each location\n",
        "- `groupby('TIME')` to display the results for each year\n",
        "- `idxmin()` to get the country that consumed the least meat each year"
      ],
      "metadata": {
        "id": "gCaTlu1u5P_N"
      }
    }
  ]
}