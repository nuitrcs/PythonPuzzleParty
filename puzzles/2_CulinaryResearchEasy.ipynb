{
  "cells": [
    {
      "cell_type": "markdown",
      "metadata": {
        "id": "IUUUJQ8oP9kX"
      },
      "source": [
        "# Global Culinary Research\n",
        "\n",
        "To become the best chef in the world, you must know at least the basics of different cuisines. To achieve this goal you head to the library of Alexandria and search for relevant information. You want to start with a basic inquiry: how does meat figure as an ingredient for cuisines around the world?\n",
        "\n",
        "Below is a dataset from the Organisation for Economic Co-operation and Development (OECD)."
      ]
    },
    {
      "cell_type": "code",
      "execution_count": null,
      "metadata": {
        "id": "NlcpcV7yM4C4"
      },
      "outputs": [],
      "source": [
        "import pandas as pd\n",
        "pd.set_option('display.max_rows', 100)"
      ]
    },
    {
      "cell_type": "code",
      "execution_count": null,
      "metadata": {
        "id": "xWuMkDRsM8GG"
      },
      "outputs": [],
      "source": [
        "df = pd.read_csv('https://raw.githubusercontent.com/emiliolehoucq/trainings/main/data/oecd_data.csv')"
      ]
    },
    {
      "cell_type": "markdown",
      "metadata": {
        "id": "pp5MjtcgUcGj"
      },
      "source": [
        "Data on meat consumption from the [OECD](https://data.oecd.org/agroutput/meat-consumption.htm):\n",
        "- `LOCATION` is the country ([ISO 3166-1 alpha-3 codes](https://en.wikipedia.org/wiki/ISO_3166-1_alpha-3))\n",
        "- `SUBJECT` is the type of meat (beef, pig, poultry or sheep)\n",
        "- `MEASURE` is the metric for the indicator (kg_cap [kilograms per capita] or thnd_tonne [thousand tonnes])\n",
        "- `TIME` is the year\n",
        "- `Value` is the value for the indicator\n",
        "\n",
        "Determine which country consumes the least meat per capita in 2020. 25 points.\n",
        "\n",
        "Hint: You may want to review how to [subset a `DataFrame`](https://pandas.pydata.org/docs/getting_started/intro_tutorials/03_subset_data.html), how to [`groupby`](https://pandas.pydata.org/docs/reference/api/pandas.DataFrame.groupby.html), how to [`sum`](https://pandas.pydata.org/docs/reference/api/pandas.DataFrame.sum.html), and how to [`sort_values`](https://pandas.pydata.org/docs/reference/api/pandas.DataFrame.sort_values.html)."
      ]
    },
    {
      "cell_type": "code",
      "execution_count": null,
      "metadata": {
        "id": "FaLtEEL3QZg-"
      },
      "outputs": [],
      "source": []
    }
  ],
  "metadata": {
    "colab": {
      "provenance": []
    },
    "kernelspec": {
      "display_name": "Python 3",
      "name": "python3"
    },
    "language_info": {
      "name": "python"
    }
  },
  "nbformat": 4,
  "nbformat_minor": 0
}
