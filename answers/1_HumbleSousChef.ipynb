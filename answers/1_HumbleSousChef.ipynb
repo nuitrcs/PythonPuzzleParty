{
  "nbformat": 4,
  "nbformat_minor": 0,
  "metadata": {
    "colab": {
      "provenance": []
    },
    "kernelspec": {
      "name": "python3",
      "display_name": "Python 3"
    },
    "language_info": {
      "name": "python"
    }
  },
  "cells": [
    {
      "cell_type": "markdown",
      "source": [
        "# And thus begins the quest for the Golden Food Truck\n",
        "\n",
        "Welcome! As you embark in your adventure, you start as a humble sous-chef. The head chef has fired the previous sous-chef because of their many mistakes 😬 So it is your job to fix them.\n",
        "\n",
        "All cells in this notebook have a bug unless otherwise noted. Your task is to find and fix as many bugs as you can. Please fix the bugs in order. To get points for a cell, you need to have fixed all previous cells.\n",
        "\n",
        "## Food inventory 1.0 (base Python 101)\n",
        "\n",
        "Create a food inventory and print the different foods and their cost."
      ],
      "metadata": {
        "id": "UVyn2ZBvSVVv"
      }
    },
    {
      "cell_type": "code",
      "source": [
        "# Create a list of fruits\n",
        "fruits = [\"apple\", \"banana\", \"orange\"]\n",
        "\n",
        "# Create a tuple of quantities for each fruit\n",
        "quantities = (5, 3, 8)\n",
        "\n",
        "# Create a dictionary that maps each fruit to its price per unit\n",
        "prices = {\"apple\": 1.25, \"banana\": 0.75, \"orange\": 1.00}"
      ],
      "metadata": {
        "id": "Ti0XPSztRHw6"
      },
      "execution_count": null,
      "outputs": []
    },
    {
      "cell_type": "markdown",
      "source": [
        "The bug is a missing comma in the dictionary in the student version."
      ],
      "metadata": {
        "id": "E1CdqS4V8_bb"
      }
    },
    {
      "cell_type": "code",
      "source": [
        "# Create a function that calculates the total cost of a fruit order and returns such a value\n",
        "def calculate_total_cost(quantity, price_per_unit):\n",
        "  '''\n",
        "  Function to calculate total cost.\n",
        "  '''\n",
        "  return quantity * price_per_unit"
      ],
      "metadata": {
        "id": "btILG2DiRPFw"
      },
      "execution_count": null,
      "outputs": []
    },
    {
      "cell_type": "markdown",
      "source": [
        "The bug is that the student version is printing, not returning a value."
      ],
      "metadata": {
        "id": "Gk7ruQJF9DZT"
      }
    },
    {
      "cell_type": "code",
      "source": [
        "# Use a list comprehension to calculate and store the total cost for each fruit\n",
        "total_costs = [calculate_total_cost(quantities[i], prices[fruit]) for i, fruit in enumerate(fruits)]"
      ],
      "metadata": {
        "id": "B1ZCyImERSPa"
      },
      "execution_count": null,
      "outputs": []
    },
    {
      "cell_type": "markdown",
      "source": [
        "The student version has the `i` and `fruit` the other way around: `quantities[fruit], prices[i]`."
      ],
      "metadata": {
        "id": "hL5Q8cTa9OCf"
      }
    },
    {
      "cell_type": "code",
      "source": [
        "# Create a tuple that combines the fruits with their total costs\n",
        "inventory = zip(fruits, total_costs)\n",
        "\n",
        "# Print a message for each item in the inventory\n",
        "for item, cost in inventory:\n",
        "  print(f\"The total cost of {quantities[fruits.index(item)]} {item}s is ${cost:.2f}.\")"
      ],
      "metadata": {
        "id": "kxVZXwIh_Gp3",
        "colab": {
          "base_uri": "https://localhost:8080/"
        },
        "outputId": "c543ad54-ebff-4d2e-f7c2-722fd1e3b52b"
      },
      "execution_count": null,
      "outputs": [
        {
          "output_type": "stream",
          "name": "stdout",
          "text": [
            "The total cost of 5 apples is $6.25.\n",
            "The total cost of 3 bananas is $2.25.\n",
            "The total cost of 8 oranges is $8.00.\n"
          ]
        }
      ]
    },
    {
      "cell_type": "markdown",
      "source": [
        "The student version missed the `f` after `print(`."
      ],
      "metadata": {
        "id": "cWFpgfCa9bAp"
      }
    },
    {
      "cell_type": "markdown",
      "source": [
        "## Food analytics 1.0 (key Python libraries 101)\n",
        "\n",
        "Create a data frame of foods, explore it, and create a model to predict calories."
      ],
      "metadata": {
        "id": "QdIHNDApSZmA"
      }
    },
    {
      "cell_type": "code",
      "source": [
        "# Importing libraries\n",
        "import numpy as np\n",
        "import pandas as pd\n",
        "import matplotlib.pyplot as plt\n",
        "from sklearn.linear_model import LinearRegression\n",
        "\n",
        "# Creating a dataset\n",
        "data = {\n",
        "    'food': ['apple', 'banana', 'orange', 'grape', 'carrot'],\n",
        "    'calories': [52, 96, 47, 69, 41],\n",
        "    'protein': [0.3, 1.3, 1.0, 0.6, 0.9],\n",
        "    'fat': [0.2, 0.3, 0.2, 0.2, 0.2]\n",
        "    }\n",
        "\n",
        "df = pd.DataFrame(data)\n",
        "\n",
        "# Print descriptive statistics\n",
        "df.describe()"
      ],
      "metadata": {
        "id": "ZEi1GcfcSDCh",
        "colab": {
          "base_uri": "https://localhost:8080/",
          "height": 300
        },
        "outputId": "d0275206-3814-4acf-d23c-86c89e050a8d"
      },
      "execution_count": null,
      "outputs": [
        {
          "output_type": "execute_result",
          "data": {
            "text/plain": [
              "        calories   protein       fat\n",
              "count   5.000000  5.000000  5.000000\n",
              "mean   61.000000  0.820000  0.220000\n",
              "std    22.169799  0.383406  0.044721\n",
              "min    41.000000  0.300000  0.200000\n",
              "25%    47.000000  0.600000  0.200000\n",
              "50%    52.000000  0.900000  0.200000\n",
              "75%    69.000000  1.000000  0.200000\n",
              "max    96.000000  1.300000  0.300000"
            ],
            "text/html": [
              "\n",
              "  <div id=\"df-ce6e35d6-20b0-4c8a-a40b-c5c75024b852\" class=\"colab-df-container\">\n",
              "    <div>\n",
              "<style scoped>\n",
              "    .dataframe tbody tr th:only-of-type {\n",
              "        vertical-align: middle;\n",
              "    }\n",
              "\n",
              "    .dataframe tbody tr th {\n",
              "        vertical-align: top;\n",
              "    }\n",
              "\n",
              "    .dataframe thead th {\n",
              "        text-align: right;\n",
              "    }\n",
              "</style>\n",
              "<table border=\"1\" class=\"dataframe\">\n",
              "  <thead>\n",
              "    <tr style=\"text-align: right;\">\n",
              "      <th></th>\n",
              "      <th>calories</th>\n",
              "      <th>protein</th>\n",
              "      <th>fat</th>\n",
              "    </tr>\n",
              "  </thead>\n",
              "  <tbody>\n",
              "    <tr>\n",
              "      <th>count</th>\n",
              "      <td>5.000000</td>\n",
              "      <td>5.000000</td>\n",
              "      <td>5.000000</td>\n",
              "    </tr>\n",
              "    <tr>\n",
              "      <th>mean</th>\n",
              "      <td>61.000000</td>\n",
              "      <td>0.820000</td>\n",
              "      <td>0.220000</td>\n",
              "    </tr>\n",
              "    <tr>\n",
              "      <th>std</th>\n",
              "      <td>22.169799</td>\n",
              "      <td>0.383406</td>\n",
              "      <td>0.044721</td>\n",
              "    </tr>\n",
              "    <tr>\n",
              "      <th>min</th>\n",
              "      <td>41.000000</td>\n",
              "      <td>0.300000</td>\n",
              "      <td>0.200000</td>\n",
              "    </tr>\n",
              "    <tr>\n",
              "      <th>25%</th>\n",
              "      <td>47.000000</td>\n",
              "      <td>0.600000</td>\n",
              "      <td>0.200000</td>\n",
              "    </tr>\n",
              "    <tr>\n",
              "      <th>50%</th>\n",
              "      <td>52.000000</td>\n",
              "      <td>0.900000</td>\n",
              "      <td>0.200000</td>\n",
              "    </tr>\n",
              "    <tr>\n",
              "      <th>75%</th>\n",
              "      <td>69.000000</td>\n",
              "      <td>1.000000</td>\n",
              "      <td>0.200000</td>\n",
              "    </tr>\n",
              "    <tr>\n",
              "      <th>max</th>\n",
              "      <td>96.000000</td>\n",
              "      <td>1.300000</td>\n",
              "      <td>0.300000</td>\n",
              "    </tr>\n",
              "  </tbody>\n",
              "</table>\n",
              "</div>\n",
              "    <div class=\"colab-df-buttons\">\n",
              "\n",
              "  <div class=\"colab-df-container\">\n",
              "    <button class=\"colab-df-convert\" onclick=\"convertToInteractive('df-ce6e35d6-20b0-4c8a-a40b-c5c75024b852')\"\n",
              "            title=\"Convert this dataframe to an interactive table.\"\n",
              "            style=\"display:none;\">\n",
              "\n",
              "  <svg xmlns=\"http://www.w3.org/2000/svg\" height=\"24px\" viewBox=\"0 -960 960 960\">\n",
              "    <path d=\"M120-120v-720h720v720H120Zm60-500h600v-160H180v160Zm220 220h160v-160H400v160Zm0 220h160v-160H400v160ZM180-400h160v-160H180v160Zm440 0h160v-160H620v160ZM180-180h160v-160H180v160Zm440 0h160v-160H620v160Z\"/>\n",
              "  </svg>\n",
              "    </button>\n",
              "\n",
              "  <style>\n",
              "    .colab-df-container {\n",
              "      display:flex;\n",
              "      gap: 12px;\n",
              "    }\n",
              "\n",
              "    .colab-df-convert {\n",
              "      background-color: #E8F0FE;\n",
              "      border: none;\n",
              "      border-radius: 50%;\n",
              "      cursor: pointer;\n",
              "      display: none;\n",
              "      fill: #1967D2;\n",
              "      height: 32px;\n",
              "      padding: 0 0 0 0;\n",
              "      width: 32px;\n",
              "    }\n",
              "\n",
              "    .colab-df-convert:hover {\n",
              "      background-color: #E2EBFA;\n",
              "      box-shadow: 0px 1px 2px rgba(60, 64, 67, 0.3), 0px 1px 3px 1px rgba(60, 64, 67, 0.15);\n",
              "      fill: #174EA6;\n",
              "    }\n",
              "\n",
              "    .colab-df-buttons div {\n",
              "      margin-bottom: 4px;\n",
              "    }\n",
              "\n",
              "    [theme=dark] .colab-df-convert {\n",
              "      background-color: #3B4455;\n",
              "      fill: #D2E3FC;\n",
              "    }\n",
              "\n",
              "    [theme=dark] .colab-df-convert:hover {\n",
              "      background-color: #434B5C;\n",
              "      box-shadow: 0px 1px 3px 1px rgba(0, 0, 0, 0.15);\n",
              "      filter: drop-shadow(0px 1px 2px rgba(0, 0, 0, 0.3));\n",
              "      fill: #FFFFFF;\n",
              "    }\n",
              "  </style>\n",
              "\n",
              "    <script>\n",
              "      const buttonEl =\n",
              "        document.querySelector('#df-ce6e35d6-20b0-4c8a-a40b-c5c75024b852 button.colab-df-convert');\n",
              "      buttonEl.style.display =\n",
              "        google.colab.kernel.accessAllowed ? 'block' : 'none';\n",
              "\n",
              "      async function convertToInteractive(key) {\n",
              "        const element = document.querySelector('#df-ce6e35d6-20b0-4c8a-a40b-c5c75024b852');\n",
              "        const dataTable =\n",
              "          await google.colab.kernel.invokeFunction('convertToInteractive',\n",
              "                                                    [key], {});\n",
              "        if (!dataTable) return;\n",
              "\n",
              "        const docLinkHtml = 'Like what you see? Visit the ' +\n",
              "          '<a target=\"_blank\" href=https://colab.research.google.com/notebooks/data_table.ipynb>data table notebook</a>'\n",
              "          + ' to learn more about interactive tables.';\n",
              "        element.innerHTML = '';\n",
              "        dataTable['output_type'] = 'display_data';\n",
              "        await google.colab.output.renderOutput(dataTable, element);\n",
              "        const docLink = document.createElement('div');\n",
              "        docLink.innerHTML = docLinkHtml;\n",
              "        element.appendChild(docLink);\n",
              "      }\n",
              "    </script>\n",
              "  </div>\n",
              "\n",
              "\n",
              "<div id=\"df-e8c78d9d-c67c-46b4-82f9-35a5ffe817cc\">\n",
              "  <button class=\"colab-df-quickchart\" onclick=\"quickchart('df-e8c78d9d-c67c-46b4-82f9-35a5ffe817cc')\"\n",
              "            title=\"Suggest charts\"\n",
              "            style=\"display:none;\">\n",
              "\n",
              "<svg xmlns=\"http://www.w3.org/2000/svg\" height=\"24px\"viewBox=\"0 0 24 24\"\n",
              "     width=\"24px\">\n",
              "    <g>\n",
              "        <path d=\"M19 3H5c-1.1 0-2 .9-2 2v14c0 1.1.9 2 2 2h14c1.1 0 2-.9 2-2V5c0-1.1-.9-2-2-2zM9 17H7v-7h2v7zm4 0h-2V7h2v10zm4 0h-2v-4h2v4z\"/>\n",
              "    </g>\n",
              "</svg>\n",
              "  </button>\n",
              "\n",
              "<style>\n",
              "  .colab-df-quickchart {\n",
              "      --bg-color: #E8F0FE;\n",
              "      --fill-color: #1967D2;\n",
              "      --hover-bg-color: #E2EBFA;\n",
              "      --hover-fill-color: #174EA6;\n",
              "      --disabled-fill-color: #AAA;\n",
              "      --disabled-bg-color: #DDD;\n",
              "  }\n",
              "\n",
              "  [theme=dark] .colab-df-quickchart {\n",
              "      --bg-color: #3B4455;\n",
              "      --fill-color: #D2E3FC;\n",
              "      --hover-bg-color: #434B5C;\n",
              "      --hover-fill-color: #FFFFFF;\n",
              "      --disabled-bg-color: #3B4455;\n",
              "      --disabled-fill-color: #666;\n",
              "  }\n",
              "\n",
              "  .colab-df-quickchart {\n",
              "    background-color: var(--bg-color);\n",
              "    border: none;\n",
              "    border-radius: 50%;\n",
              "    cursor: pointer;\n",
              "    display: none;\n",
              "    fill: var(--fill-color);\n",
              "    height: 32px;\n",
              "    padding: 0;\n",
              "    width: 32px;\n",
              "  }\n",
              "\n",
              "  .colab-df-quickchart:hover {\n",
              "    background-color: var(--hover-bg-color);\n",
              "    box-shadow: 0 1px 2px rgba(60, 64, 67, 0.3), 0 1px 3px 1px rgba(60, 64, 67, 0.15);\n",
              "    fill: var(--button-hover-fill-color);\n",
              "  }\n",
              "\n",
              "  .colab-df-quickchart-complete:disabled,\n",
              "  .colab-df-quickchart-complete:disabled:hover {\n",
              "    background-color: var(--disabled-bg-color);\n",
              "    fill: var(--disabled-fill-color);\n",
              "    box-shadow: none;\n",
              "  }\n",
              "\n",
              "  .colab-df-spinner {\n",
              "    border: 2px solid var(--fill-color);\n",
              "    border-color: transparent;\n",
              "    border-bottom-color: var(--fill-color);\n",
              "    animation:\n",
              "      spin 1s steps(1) infinite;\n",
              "  }\n",
              "\n",
              "  @keyframes spin {\n",
              "    0% {\n",
              "      border-color: transparent;\n",
              "      border-bottom-color: var(--fill-color);\n",
              "      border-left-color: var(--fill-color);\n",
              "    }\n",
              "    20% {\n",
              "      border-color: transparent;\n",
              "      border-left-color: var(--fill-color);\n",
              "      border-top-color: var(--fill-color);\n",
              "    }\n",
              "    30% {\n",
              "      border-color: transparent;\n",
              "      border-left-color: var(--fill-color);\n",
              "      border-top-color: var(--fill-color);\n",
              "      border-right-color: var(--fill-color);\n",
              "    }\n",
              "    40% {\n",
              "      border-color: transparent;\n",
              "      border-right-color: var(--fill-color);\n",
              "      border-top-color: var(--fill-color);\n",
              "    }\n",
              "    60% {\n",
              "      border-color: transparent;\n",
              "      border-right-color: var(--fill-color);\n",
              "    }\n",
              "    80% {\n",
              "      border-color: transparent;\n",
              "      border-right-color: var(--fill-color);\n",
              "      border-bottom-color: var(--fill-color);\n",
              "    }\n",
              "    90% {\n",
              "      border-color: transparent;\n",
              "      border-bottom-color: var(--fill-color);\n",
              "    }\n",
              "  }\n",
              "</style>\n",
              "\n",
              "  <script>\n",
              "    async function quickchart(key) {\n",
              "      const quickchartButtonEl =\n",
              "        document.querySelector('#' + key + ' button');\n",
              "      quickchartButtonEl.disabled = true;  // To prevent multiple clicks.\n",
              "      quickchartButtonEl.classList.add('colab-df-spinner');\n",
              "      try {\n",
              "        const charts = await google.colab.kernel.invokeFunction(\n",
              "            'suggestCharts', [key], {});\n",
              "      } catch (error) {\n",
              "        console.error('Error during call to suggestCharts:', error);\n",
              "      }\n",
              "      quickchartButtonEl.classList.remove('colab-df-spinner');\n",
              "      quickchartButtonEl.classList.add('colab-df-quickchart-complete');\n",
              "    }\n",
              "    (() => {\n",
              "      let quickchartButtonEl =\n",
              "        document.querySelector('#df-e8c78d9d-c67c-46b4-82f9-35a5ffe817cc button');\n",
              "      quickchartButtonEl.style.display =\n",
              "        google.colab.kernel.accessAllowed ? 'block' : 'none';\n",
              "    })();\n",
              "  </script>\n",
              "</div>\n",
              "    </div>\n",
              "  </div>\n"
            ]
          },
          "metadata": {},
          "execution_count": 5
        }
      ]
    },
    {
      "cell_type": "markdown",
      "source": [
        "The student version has `import pandas` not `as pd`."
      ],
      "metadata": {
        "id": "YQ84QEKw9lAF"
      }
    },
    {
      "cell_type": "code",
      "source": [
        "# Create a bar chart comparing the calories of each food\n",
        "plt.bar(df['food'], df['calories'])\n",
        "plt.title('Calories across foods')\n",
        "plt.xlabel('Food')\n",
        "plt.ylabel('Calories')\n",
        "plt.show()"
      ],
      "metadata": {
        "id": "4KnylOW6SKON",
        "colab": {
          "base_uri": "https://localhost:8080/",
          "height": 472
        },
        "outputId": "6180d6b5-94b9-491b-c208-e3adfa52064c"
      },
      "execution_count": null,
      "outputs": [
        {
          "output_type": "display_data",
          "data": {
            "text/plain": [
              "<Figure size 640x480 with 1 Axes>"
            ],
            "image/png": "[encoded data removed]"
          },
          "metadata": {}
        }
      ]
    },
    {
      "cell_type": "markdown",
      "source": [
        "The student version has `food` and `calories` without quotation marks."
      ],
      "metadata": {
        "id": "YJCtvQrR9rGq"
      }
    },
    {
      "cell_type": "code",
      "source": [
        "# Calculate the correlation between protein and calories\n",
        "print(f\"\\nCorrelation between protein and calories: {df['protein'].corr(df['calories']):.2f}\")"
      ],
      "metadata": {
        "id": "eivV89yCSLvI",
        "colab": {
          "base_uri": "https://localhost:8080/"
        },
        "outputId": "c52daf44-b212-4c6c-f6dd-261485de6cab"
      },
      "execution_count": null,
      "outputs": [
        {
          "output_type": "stream",
          "name": "stdout",
          "text": [
            "\n",
            "Correlation between protein and calories: 0.46\n"
          ]
        }
      ]
    },
    {
      "cell_type": "markdown",
      "source": [
        "The student version has `data` instead of `df`."
      ],
      "metadata": {
        "id": "34s6WQe79xpd"
      }
    },
    {
      "cell_type": "code",
      "source": [
        "# Fit a linear regression model\n",
        "# Hint: You may want to review what .fit(): https://www.sharpsightlabs.com/blog/sklearn-fit/\n",
        "model = LinearRegression().fit(df[['protein']].values, df['calories'])"
      ],
      "metadata": {
        "id": "FWmnFzheSO6a"
      },
      "execution_count": null,
      "outputs": []
    },
    {
      "cell_type": "markdown",
      "source": [
        "The student version as `df['protein']` instead of `df[['protein']]`."
      ],
      "metadata": {
        "id": "ev7xR15w-L64"
      }
    },
    {
      "cell_type": "code",
      "source": [
        "# Predict the calories for a new food\n",
        "new_protein = 1.5\n",
        "print(f\"\\nPredicted calories for a new food with {new_protein} grams of protein: {model.predict([[new_protein]])[0]:.2f}\")"
      ],
      "metadata": {
        "id": "CMxScK6ISQv_",
        "colab": {
          "base_uri": "https://localhost:8080/"
        },
        "outputId": "b4357401-6d05-404a-842d-1abb3c732387"
      },
      "execution_count": null,
      "outputs": [
        {
          "output_type": "stream",
          "name": "stdout",
          "text": [
            "\n",
            "Predicted calories for a new food with 1.5 grams of protein: 79.04\n"
          ]
        }
      ]
    },
    {
      "cell_type": "markdown",
      "source": [
        "The student version misses the `[0]`.\n",
        "\n",
        "## Food inventory 2.0 (base Python 102)\n",
        "\n",
        "Create a food inventory manager. <br>\n",
        "The cells with tests don't have bugs. The tests are meant to help you make sure that you're getting the expected behaviors."
      ],
      "metadata": {
        "id": "3OGBoKZXSipL"
      }
    },
    {
      "cell_type": "code",
      "source": [
        "# Create a class for foods\n",
        "class Food:\n",
        "  def __init__(self, name, quantity, shelf_life):\n",
        "    self.name = name\n",
        "    self.quantity = quantity\n",
        "    self.shelf_life = shelf_life\n",
        "\n",
        "  def is_expired(self, current_day):\n",
        "    return current_day > self.shelf_life # Returns True if the food item is expired based on the current day"
      ],
      "metadata": {
        "id": "WBPcaFi2XN58"
      },
      "execution_count": null,
      "outputs": []
    },
    {
      "cell_type": "markdown",
      "source": [
        "The student version as `quantity = quantity` above `def __init__`."
      ],
      "metadata": {
        "id": "_ec6GG3r-Z5a"
      }
    },
    {
      "cell_type": "code",
      "source": [
        "# THIS CELL DOESN'T HAVE A BUG\n",
        "# Testing Food\n",
        "\n",
        "# Creating foods\n",
        "food_1 = Food(\"Apple\", 10, 7)\n",
        "food_2 = Food(\"Milk\", 2, 3)\n",
        "food_3 = Food(\"Bread\", 1, 10)\n",
        "\n",
        "# Testing that the foods are of class Food\n",
        "assert isinstance(food_1, Food)\n",
        "assert isinstance(food_2, Food)\n",
        "assert isinstance(food_3, Food)\n",
        "\n",
        "# Testing that is_expired works as expected\n",
        "assert not food_1.is_expired(0)\n",
        "assert not food_2.is_expired(3)\n",
        "assert food_3.is_expired(11)"
      ],
      "metadata": {
        "id": "khub021ro66P"
      },
      "execution_count": null,
      "outputs": []
    },
    {
      "cell_type": "code",
      "source": [
        "# Create a class for inventory manager\n",
        "class InventoryManager:\n",
        "  def __init__(self):\n",
        "    self.inventory = []\n",
        "\n",
        "  def get_total_quantity(self):\n",
        "    return sum(food.quantity for food in self.inventory) # total quantity of all foods in the inventory\n",
        "\n",
        "  def add_food(self, food):\n",
        "    self.inventory.append(food)\n",
        "\n",
        "  def remove_expired_foods(self, current_day, index = 0):\n",
        "    if index < len(self.inventory):\n",
        "      if self.inventory[index].is_expired(current_day):\n",
        "        del self.inventory[index]\n",
        "        # Continue with current index since the first food was deleted\n",
        "        return self.remove_expired_foods(current_day, index)\n",
        "      else:\n",
        "        # Move on to next food\n",
        "        return self.remove_expired_foods(current_day, index + 1)\n",
        "    else:\n",
        "      return"
      ],
      "metadata": {
        "id": "7vpEOVi2XOVZ"
      },
      "execution_count": null,
      "outputs": []
    },
    {
      "cell_type": "markdown",
      "source": [
        "The student version misses the `+ 1` in `self.remove_expired_foods(current_day, index + 1)`."
      ],
      "metadata": {
        "id": "b0WU9loh-hY4"
      }
    },
    {
      "cell_type": "code",
      "source": [
        "# THIS CELL DOESN'T HAVE A BUG\n",
        "# Testing InventoryManager\n",
        "\n",
        "# Creating inventory manager\n",
        "inventory_manager = InventoryManager()\n",
        "\n",
        "# Testing that the inventory manager is of class InventoryManager\n",
        "assert isinstance(inventory_manager, InventoryManager)\n",
        "\n",
        "# Testing get_total_quantity on empty inventory\n",
        "assert inventory_manager.get_total_quantity() == 0, \"inventory_manager should be empty\"\n",
        "\n",
        "# Adding food\n",
        "inventory_manager.add_food(food_1)\n",
        "inventory_manager.add_food(food_2)\n",
        "inventory_manager.add_food(food_3)\n",
        "\n",
        "# Testing add_food works as expected with get_total_quantity\n",
        "assert inventory_manager.get_total_quantity() == 13, \"Total quantity is incorrect\"\n",
        "\n",
        "# Remove expired items at day 5\n",
        "inventory_manager.remove_expired_foods(5)\n",
        "\n",
        "# Testing remove_expired_foods works as expected with get_total_quantity\n",
        "assert inventory_manager.get_total_quantity() == 11, \"Updated total quantity is incorrect\""
      ],
      "metadata": {
        "id": "dUQyp6crVUw8"
      },
      "execution_count": null,
      "outputs": []
    },
    {
      "cell_type": "markdown",
      "source": [
        "## Food analytics 2.0 (key Python libraries 102)\n",
        "\n",
        "Scrape the Wikipedia article about food and start exploring what it's talking about.<br>\n",
        "The next cell doesn't have a bug. **Please run it only once.** That cell is scraping the Wikipedia article. We don't want to make too many requests to Wikipedia."
      ],
      "metadata": {
        "id": "C4C4d9R1qqco"
      }
    },
    {
      "cell_type": "code",
      "source": [
        "# THIS CELL DOESN'T HAVE A BUG\n",
        "# PLEASE RUN THIS CELL ONLY ONCE! NO NEED TO KEEP MAKING REQUESTS TO WIKIPEDIA\n",
        "\n",
        "# Importing libraries\n",
        "import requests\n",
        "from bs4 import BeautifulSoup\n",
        "import nltk\n",
        "import spacy\n",
        "from nltk.corpus import stopwords\n",
        "from nltk.tokenize import RegexpTokenizer\n",
        "from collections import Counter\n",
        "import matplotlib.pyplot as plt\n",
        "\n",
        "# Loading stop words\n",
        "nltk.download('stopwords')\n",
        "stop_words = stopwords.words('english') + ['food']\n",
        "\n",
        "# Loading language model for lemmatization\n",
        "nlp = spacy.load('en_core_web_sm')\n",
        "\n",
        "# Requesting Wikipedia article about food\n",
        "response = requests.get(\"https://en.wikipedia.org/wiki/Food\")\n",
        "\n",
        "# Parsing HTML content\n",
        "soup = BeautifulSoup(response.text, 'html.parser')"
      ],
      "metadata": {
        "id": "-qg38TFNstiW",
        "colab": {
          "base_uri": "https://localhost:8080/"
        },
        "outputId": "20c1406b-7714-4adc-955f-ee0f2fd7c1de"
      },
      "execution_count": null,
      "outputs": [
        {
          "output_type": "stream",
          "name": "stderr",
          "text": [
            "[nltk_data] Downloading package stopwords to /root/nltk_data...\n",
            "[nltk_data]   Package stopwords is already up-to-date!\n"
          ]
        }
      ]
    },
    {
      "cell_type": "code",
      "source": [
        "# Get all paragraphs\n",
        "# Hint: you may want to make sure you're getting the correct HTML tag: https://www.w3schools.com/tags/\n",
        "paragraphs = soup.find_all('p')"
      ],
      "metadata": {
        "id": "BI4G5Qe9tVxN"
      },
      "execution_count": null,
      "outputs": []
    },
    {
      "cell_type": "markdown",
      "source": [
        "The student version as `h2` instead of `p`."
      ],
      "metadata": {
        "id": "sstRG4Ag-o4G"
      }
    },
    {
      "cell_type": "code",
      "source": [
        "# Concatenate text from all paragraphs\n",
        "# Hint: you may want to use get_text: https://www.educative.io/answers/how-to-use-gettext-in-beautiful-soup\n",
        "text = ' '.join([p.get_text() for p in paragraphs])"
      ],
      "metadata": {
        "id": "xMsf_of53ugE"
      },
      "execution_count": null,
      "outputs": []
    },
    {
      "cell_type": "markdown",
      "source": [
        "The student version doesn't have `get_text()`."
      ],
      "metadata": {
        "id": "NGx4reny-sj0"
      }
    },
    {
      "cell_type": "code",
      "source": [
        "# Turn text to lower case\n",
        "text = text.lower()\n",
        "\n",
        "# Tokenize text\n",
        "words = RegexpTokenizer(r'\\w+').tokenize(text)\n",
        "\n",
        "# Remove numbers and stop words\n",
        "words = [word for word in words if not word.isdigit() and word not in stop_words]\n",
        "\n",
        "# Lemmatize words\n",
        "# Hint: you may want to take a look at lemma_: https://spacy.io/api/token\n",
        "words = [token.lemma_ for token in nlp(' '.join(words))]\n",
        "\n",
        "# Count the occurrences of each word and get the top 25 words and their counts\n",
        "word_counts = Counter(words).most_common(25)[::-1]\n",
        "top_words, counts = zip(*word_counts)\n",
        "\n",
        "# Plot word frequency\n",
        "plt.barh(range(len(top_words)), counts, tick_label = top_words)\n",
        "plt.xlabel('Frequency')\n",
        "plt.ylabel('Words')\n",
        "plt.title('Top 25 words used in Wikipedia article about food')\n",
        "plt.show()"
      ],
      "metadata": {
        "id": "Uk8D9xzjvm-s",
        "colab": {
          "base_uri": "https://localhost:8080/",
          "height": 472
        },
        "outputId": "e0528aca-3c23-4203-deb1-3441cbd3456f"
      },
      "execution_count": null,
      "outputs": [
        {
          "output_type": "display_data",
          "data": {
            "text/plain": [
              "<Figure size 640x480 with 1 Axes>"
            ],
            "image/png": "[encoded data removed]"
          },
          "metadata": {}
        }
      ]
    },
    {
      "cell_type": "markdown",
      "source": [
        "The student version doesn't have `.lemma_`."
      ],
      "metadata": {
        "id": "ZW23KztL-wEF"
      }
    }
  ]
}